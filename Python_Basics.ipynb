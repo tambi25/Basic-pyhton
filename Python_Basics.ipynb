{
  "nbformat": 4,
  "nbformat_minor": 0,
  "metadata": {
    "colab": {
      "name": "Python Basics.ipynb",
      "provenance": [],
      "toc_visible": true
    },
    "kernelspec": {
      "name": "python3",
      "display_name": "Python 3"
    },
    "language_info": {
      "name": "python"
    }
  },
  "cells": [
    {
      "cell_type": "code",
      "execution_count": 2,
      "metadata": {
        "colab": {
          "base_uri": "https://localhost:8080/"
        },
        "id": "D2OjM-Nf7RTA",
        "outputId": "150a91e8-e3e4-48c9-ec69-79c38616a0c2"
      },
      "outputs": [
        {
          "output_type": "stream",
          "name": "stdout",
          "text": [
            "brad\n"
          ]
        }
      ],
      "source": [
        "name = 'brad'\n",
        "print(name)"
      ]
    },
    {
      "cell_type": "code",
      "source": [
        "fruits = {'apples','grapes'}\n",
        "print(fruits)"
      ],
      "metadata": {
        "colab": {
          "base_uri": "https://localhost:8080/"
        },
        "id": "Szp9rEoj7oH7",
        "outputId": "61b45401-d38a-4c32-83bd-0f9fca0e11d7"
      },
      "execution_count": 2,
      "outputs": [
        {
          "output_type": "stream",
          "name": "stdout",
          "text": [
            "{'apples', 'grapes'}\n"
          ]
        }
      ]
    },
    {
      "cell_type": "markdown",
      "source": [
        "check apples in fruits set"
      ],
      "metadata": {
        "id": "GI5C0xac8W__"
      }
    },
    {
      "cell_type": "code",
      "source": [
        "print('apples' in fruits)"
      ],
      "metadata": {
        "colab": {
          "base_uri": "https://localhost:8080/"
        },
        "id": "CQgC_orm8ZxT",
        "outputId": "126ebc76-efb6-492b-d56d-3ae91ac586f8"
      },
      "execution_count": 5,
      "outputs": [
        {
          "output_type": "stream",
          "name": "stdout",
          "text": [
            "True\n"
          ]
        }
      ]
    },
    {
      "cell_type": "code",
      "source": [
        "#add to set\n",
        "fruits.add('Grapes')\n",
        "print(fruits)"
      ],
      "metadata": {
        "colab": {
          "base_uri": "https://localhost:8080/"
        },
        "id": "Nm8NiYhW8tVN",
        "outputId": "7ab53f90-6040-4327-ed95-27d342c3d326"
      },
      "execution_count": 8,
      "outputs": [
        {
          "output_type": "stream",
          "name": "stdout",
          "text": [
            "{'apples', 'Grapes', 'grapes'}\n"
          ]
        }
      ]
    },
    {
      "cell_type": "code",
      "source": [
        "#Remove from set\n",
        "fruits.remove('Grapes')"
      ],
      "metadata": {
        "id": "EONh_0Hz9tYf"
      },
      "execution_count": 10,
      "outputs": []
    },
    {
      "cell_type": "code",
      "source": [
        "#To clear\n",
        "fruits.clear()"
      ],
      "metadata": {
        "id": "CZc0a8wr9-Wm"
      },
      "execution_count": 12,
      "outputs": []
    },
    {
      "cell_type": "code",
      "source": [
        "#To delete set\n",
        "del fruits"
      ],
      "metadata": {
        "id": "fD30hBrf-UQW"
      },
      "execution_count": 13,
      "outputs": []
    },
    {
      "cell_type": "code",
      "source": [
        "print(fruits)\n",
        "#Error as we have deleted it"
      ],
      "metadata": {
        "colab": {
          "base_uri": "https://localhost:8080/",
          "height": 165
        },
        "id": "WleF-oHe-cIT",
        "outputId": "90f26bdb-7073-4ba5-80dd-dd9c5678bed1"
      },
      "execution_count": 14,
      "outputs": [
        {
          "output_type": "error",
          "ename": "NameError",
          "evalue": "ignored",
          "traceback": [
            "\u001b[0;31m---------------------------------------------------------------------------\u001b[0m",
            "\u001b[0;31mNameError\u001b[0m                                 Traceback (most recent call last)",
            "\u001b[0;32m<ipython-input-14-c5ba58fe0871>\u001b[0m in \u001b[0;36m<module>\u001b[0;34m()\u001b[0m\n\u001b[0;32m----> 1\u001b[0;31m \u001b[0mprint\u001b[0m\u001b[0;34m(\u001b[0m\u001b[0mfruits\u001b[0m\u001b[0;34m)\u001b[0m\u001b[0;34m\u001b[0m\u001b[0;34m\u001b[0m\u001b[0m\n\u001b[0m",
            "\u001b[0;31mNameError\u001b[0m: name 'fruits' is not defined"
          ]
        }
      ]
    },
    {
      "cell_type": "code",
      "source": [
        ""
      ],
      "metadata": {
        "id": "un93fbnE-iBW"
      },
      "execution_count": null,
      "outputs": []
    },
    {
      "cell_type": "markdown",
      "source": [
        "Dictionary# New Section"
      ],
      "metadata": {
        "id": "VZuXYI6Q-6GH"
      }
    },
    {
      "cell_type": "markdown",
      "source": [
        "A dictionary is a collection which is ordered, changeable and indexed. No duplicate. "
      ],
      "metadata": {
        "id": "owLEw4bL_bNq"
      }
    },
    {
      "cell_type": "code",
      "source": [
        "#Create dict\n",
        "person ={\n",
        "    'first' : 'John',\n",
        "    'Last' : 'Doe',\n",
        "    'age' : 30\n",
        "}\n",
        "\n",
        "print(person, type(person))"
      ],
      "metadata": {
        "colab": {
          "base_uri": "https://localhost:8080/"
        },
        "id": "_XX7c0yYASvk",
        "outputId": "d5f8cb18-8cb0-4cd1-a45b-8f33d96717fd"
      },
      "execution_count": 20,
      "outputs": [
        {
          "output_type": "stream",
          "name": "stdout",
          "text": [
            "{'first': 'John', 'Last': 'Doe', 'age': 30} <class 'dict'>\n"
          ]
        }
      ]
    },
    {
      "cell_type": "code",
      "source": [
        "#using constructors\n",
        "#person2 = dict(first = 'sara', last = 'bha')\n",
        "#print(person2)"
      ],
      "metadata": {
        "colab": {
          "base_uri": "https://localhost:8080/"
        },
        "id": "IVKnXzQTA9na",
        "outputId": "97496163-bed7-4f30-a85f-949a4eb170c7"
      },
      "execution_count": 21,
      "outputs": [
        {
          "output_type": "stream",
          "name": "stdout",
          "text": [
            "{'first': 'sara', 'last': 'bha'}\n"
          ]
        }
      ]
    },
    {
      "cell_type": "code",
      "source": [
        "#Gte a value\n",
        "print(person2['first'])\n"
      ],
      "metadata": {
        "colab": {
          "base_uri": "https://localhost:8080/"
        },
        "id": "2X5TikTkBSWP",
        "outputId": "1cf3fe57-ae42-40f8-d4ca-3a9669da6cb4"
      },
      "execution_count": 23,
      "outputs": [
        {
          "output_type": "stream",
          "name": "stdout",
          "text": [
            "sara\n"
          ]
        }
      ]
    },
    {
      "cell_type": "code",
      "source": [
        "#Add a key/value\n",
        "person['phone'] = '54354135'"
      ],
      "metadata": {
        "id": "h9Fl57NiBoAG"
      },
      "execution_count": 26,
      "outputs": []
    },
    {
      "cell_type": "code",
      "source": [
        "#get dict items\n",
        "print(person.items())"
      ],
      "metadata": {
        "colab": {
          "base_uri": "https://localhost:8080/"
        },
        "id": "t4ok-N78B26S",
        "outputId": "3459230e-4aee-407d-a72c-4f304a55a645"
      },
      "execution_count": 27,
      "outputs": [
        {
          "output_type": "stream",
          "name": "stdout",
          "text": [
            "dict_items([('first', 'John'), ('Last', 'Doe'), ('age', 30), ('phone', '54354135')])\n"
          ]
        }
      ]
    },
    {
      "cell_type": "code",
      "source": [
        "#get dict keys\n",
        "print(person.keys())\n"
      ],
      "metadata": {
        "colab": {
          "base_uri": "https://localhost:8080/"
        },
        "id": "uMHEYdzpCd5E",
        "outputId": "eb573bc9-48ec-4d4d-cb62-92c0708b2504"
      },
      "execution_count": 28,
      "outputs": [
        {
          "output_type": "stream",
          "name": "stdout",
          "text": [
            "dict_keys(['first', 'Last', 'age', 'phone'])\n"
          ]
        }
      ]
    },
    {
      "cell_type": "code",
      "source": [
        "#copy a dict\n",
        "person3 = person.copy()\n",
        "person3['city'] = 'Boston'\n",
        "print(person3)"
      ],
      "metadata": {
        "colab": {
          "base_uri": "https://localhost:8080/"
        },
        "id": "YyC_VfNXCxgo",
        "outputId": "042a78db-47e1-4bac-8a25-0c264561d929"
      },
      "execution_count": 29,
      "outputs": [
        {
          "output_type": "stream",
          "name": "stdout",
          "text": [
            "{'first': 'John', 'Last': 'Doe', 'age': 30, 'phone': '54354135', 'city': 'Boston'}\n"
          ]
        }
      ]
    },
    {
      "cell_type": "code",
      "source": [
        "#remove a itrm\n",
        "del(person['age'])\n",
        "print(person)"
      ],
      "metadata": {
        "colab": {
          "base_uri": "https://localhost:8080/"
        },
        "id": "6NrxdUeIDCP9",
        "outputId": "a05a4920-cb06-4814-b5c9-60f1c222654f"
      },
      "execution_count": 30,
      "outputs": [
        {
          "output_type": "stream",
          "name": "stdout",
          "text": [
            "{'first': 'John', 'Last': 'Doe', 'phone': '54354135'}\n"
          ]
        }
      ]
    },
    {
      "cell_type": "code",
      "source": [
        "#to clear\n",
        "person.clear()"
      ],
      "metadata": {
        "id": "pOasziXoDQnc"
      },
      "execution_count": null,
      "outputs": []
    },
    {
      "cell_type": "code",
      "source": [
        "print(len(person3))"
      ],
      "metadata": {
        "colab": {
          "base_uri": "https://localhost:8080/"
        },
        "id": "bKlzL4EgDVSO",
        "outputId": "77945708-2c74-4d5c-8022-508c77d8b907"
      },
      "execution_count": 31,
      "outputs": [
        {
          "output_type": "stream",
          "name": "stdout",
          "text": [
            "5\n"
          ]
        }
      ]
    },
    {
      "cell_type": "code",
      "source": [
        "#list of dict\n",
        "people = [\n",
        "          {'name':'mehul', 'age':19},\n",
        "          {'name':'anant', 'age':19}\n",
        "]\n",
        "print(people)\n",
        "print(people[0])\n"
      ],
      "metadata": {
        "colab": {
          "base_uri": "https://localhost:8080/"
        },
        "id": "xdHGmq-QDZZc",
        "outputId": "e522a56e-d27c-4372-921a-9f9b473a95fc"
      },
      "execution_count": 37,
      "outputs": [
        {
          "output_type": "stream",
          "name": "stdout",
          "text": [
            "[{'name': 'mehul', 'age': 19}, {'name': 'anant', 'age': 19}]\n",
            "{'name': 'mehul', 'age': 19}\n"
          ]
        }
      ]
    },
    {
      "cell_type": "code",
      "source": [
        ""
      ],
      "metadata": {
        "id": "qjuop0WHEF8B"
      },
      "execution_count": null,
      "outputs": []
    },
    {
      "cell_type": "markdown",
      "source": [
        "Function# New Section"
      ],
      "metadata": {
        "id": "pv2K-m9HEToK"
      }
    },
    {
      "cell_type": "markdown",
      "source": [
        "A function is a block of code whcih only runs when it is called. In pyhton, we do not use curly  rackets, we use indentaion with tabs or spaces"
      ],
      "metadata": {
        "id": "Ql0oXEikEudZ"
      }
    },
    {
      "cell_type": "code",
      "source": [
        "#create function\n",
        "def sayhello(name = 'doe'):\n",
        "  print(f'Hello{name}')\n",
        "  \n",
        "\n",
        "sayhello()"
      ],
      "metadata": {
        "colab": {
          "base_uri": "https://localhost:8080/"
        },
        "id": "80CLZrniFFuu",
        "outputId": "7e5e05df-1605-48ec-d68f-b6b312bb4ccb"
      },
      "execution_count": 40,
      "outputs": [
        {
          "output_type": "stream",
          "name": "stdout",
          "text": [
            "Hellodoe\n"
          ]
        }
      ]
    },
    {
      "cell_type": "code",
      "source": [
        "#Return value\n",
        "def getsum(num1, num2):\n",
        " total = num1+num2\n",
        " return total\n",
        "\n",
        "sum = getsum(6,7)\n",
        "print(sum)\n"
      ],
      "metadata": {
        "colab": {
          "base_uri": "https://localhost:8080/"
        },
        "id": "f9v8G6_0Fxr-",
        "outputId": "5beffa43-c434-44a0-ee7f-8b89e0df3994"
      },
      "execution_count": 41,
      "outputs": [
        {
          "output_type": "stream",
          "name": "stdout",
          "text": [
            "13\n"
          ]
        }
      ]
    },
    {
      "cell_type": "code",
      "source": [
        "#Lambda - an anonymous function. Can take any number of arguments, but can only one expression. Very similar to JS arrow function\n",
        "getSum = lambda num1, num2 : num1 + num2\n",
        "print(getSum(3,6))"
      ],
      "metadata": {
        "colab": {
          "base_uri": "https://localhost:8080/"
        },
        "id": "FHIg4dv2GSuV",
        "outputId": "3e3d4b0d-c24a-4ba2-e219-24c951d47e96"
      },
      "execution_count": 44,
      "outputs": [
        {
          "output_type": "stream",
          "name": "stdout",
          "text": [
            "9\n"
          ]
        }
      ]
    },
    {
      "cell_type": "code",
      "source": [
        ""
      ],
      "metadata": {
        "id": "QdI25MrHHKN_"
      },
      "execution_count": null,
      "outputs": []
    },
    {
      "cell_type": "markdown",
      "source": [
        "STATEMENTS\n",
        "# New Section"
      ],
      "metadata": {
        "id": "N8QoWJDRHPDY"
      }
    },
    {
      "cell_type": "code",
      "source": [
        "#comparison operator\n",
        "x = 10\n",
        "y=11\n",
        "if x>y:\n",
        "  print(f'{x} is greater than {y} ')\n",
        "\n",
        "#if else\n",
        "if x>y:\n",
        "  print(f'{x} is greater than {y} ')\n",
        "else:\n",
        "  print(f'{y} is greater than {x} ')"
      ],
      "metadata": {
        "colab": {
          "base_uri": "https://localhost:8080/"
        },
        "id": "RbJEhJQvHUCD",
        "outputId": "b96ec43b-6286-43d1-d01f-74ac662b845c"
      },
      "execution_count": 47,
      "outputs": [
        {
          "output_type": "stream",
          "name": "stdout",
          "text": [
            "11 is greater than 10 \n"
          ]
        }
      ]
    },
    {
      "cell_type": "code",
      "source": [
        "#elif\n",
        "if x>y:\n",
        "  print(f'{x} is greater than {y} ')\n",
        "elif x==y:\n",
        "    print(print(f'{x} is equal than {y} '))\n",
        "else:\n",
        "  print(f'{y} is greater than {x} ')\n",
        "  "
      ],
      "metadata": {
        "colab": {
          "base_uri": "https://localhost:8080/"
        },
        "id": "ODvymDr1IDxU",
        "outputId": "67846a0c-b645-4582-a975-47a43803c8fd"
      },
      "execution_count": 48,
      "outputs": [
        {
          "output_type": "stream",
          "name": "stdout",
          "text": [
            "11 is greater than 10 \n"
          ]
        }
      ]
    },
    {
      "cell_type": "code",
      "source": [
        "#nested if\n",
        "if x>2:\n",
        "  if x<= 10:\n",
        "    print('hello')\n"
      ],
      "metadata": {
        "colab": {
          "base_uri": "https://localhost:8080/"
        },
        "id": "aV_NZz3CIc0L",
        "outputId": "0aaf2d40-9ddc-4a20-bb29-6d33860591ad"
      },
      "execution_count": 50,
      "outputs": [
        {
          "output_type": "stream",
          "name": "stdout",
          "text": [
            "hello\n"
          ]
        }
      ]
    },
    {
      "cell_type": "code",
      "source": [
        "#logical operators\n",
        "if x>2 and x<=10:\n",
        "  print('heello')\n",
        "\n",
        "if x>2 or x<=10:\n",
        "  print('fifuj')\n",
        "\n",
        "if not(x == y):\n",
        "  print('hjff')"
      ],
      "metadata": {
        "colab": {
          "base_uri": "https://localhost:8080/"
        },
        "id": "ZvMkWy2cItrr",
        "outputId": "7b5417ef-67e8-4fc9-e74d-95cd9fae4c76"
      },
      "execution_count": 54,
      "outputs": [
        {
          "output_type": "stream",
          "name": "stdout",
          "text": [
            "heello\n",
            "fifuj\n",
            "hjff\n"
          ]
        }
      ]
    },
    {
      "cell_type": "code",
      "source": [
        "#Membership operator\n",
        "numbers = [1,2,34,4]\n",
        "if x in numbers:\n",
        "  print(x in numbers)\n",
        "\n",
        "if x not in numbers:\n",
        "  print(x not in numbers)\n",
        "\n",
        "if x is not y:\n",
        "  print(x is y)"
      ],
      "metadata": {
        "colab": {
          "base_uri": "https://localhost:8080/"
        },
        "id": "RtLFzSbeJSbB",
        "outputId": "58dac320-50a2-469c-d771-e8118b3e2fef"
      },
      "execution_count": 60,
      "outputs": [
        {
          "output_type": "stream",
          "name": "stdout",
          "text": [
            "True\n",
            "False\n"
          ]
        }
      ]
    },
    {
      "cell_type": "markdown",
      "source": [
        "loops# New Section"
      ],
      "metadata": {
        "id": "Twj6GxemKgHR"
      }
    },
    {
      "cell_type": "markdown",
      "source": [
        "A for loop is udes for iterationg over a sequence (i.e. either a list, a tuple, a dictionary or a string).\n",
        "\n",
        "A while loop executes a set of arguments as long as a condition is true.\n"
      ],
      "metadata": {
        "id": "O3JiIscPKt1x"
      }
    },
    {
      "cell_type": "code",
      "source": [
        "people = ['jpn', 'pi','paul','susan']\n",
        "#for loop\n",
        "for person in people:\n",
        "  print(f'Current version:{person}')\n",
        "\n"
      ],
      "metadata": {
        "colab": {
          "base_uri": "https://localhost:8080/"
        },
        "id": "ZjAEldJZLHuP",
        "outputId": "2463993b-6dd7-49b2-8705-00fe7f113c39"
      },
      "execution_count": 61,
      "outputs": [
        {
          "output_type": "stream",
          "name": "stdout",
          "text": [
            "Current version:jpn\n",
            "Current version:pi\n",
            "Current version:paul\n",
            "Current version:susan\n"
          ]
        }
      ]
    },
    {
      "cell_type": "code",
      "source": [
        "for person in people:\n",
        "  if person == 'pi':\n",
        "    break\n",
        "  print(f'Current version:{person}')"
      ],
      "metadata": {
        "colab": {
          "base_uri": "https://localhost:8080/"
        },
        "id": "BJ8xaZKqLpLn",
        "outputId": "8ae051c2-1b3d-4a50-cca7-2e6180b243db"
      },
      "execution_count": 62,
      "outputs": [
        {
          "output_type": "stream",
          "name": "stdout",
          "text": [
            "Current version:jpn\n"
          ]
        }
      ]
    },
    {
      "cell_type": "code",
      "source": [
        "#continue\n",
        "for person in people:\n",
        "  if person == 'pi':\n",
        "    continue\n",
        "  print(f'Current version:{person}')"
      ],
      "metadata": {
        "id": "h9BbhZLPL7mR"
      },
      "execution_count": null,
      "outputs": []
    },
    {
      "cell_type": "code",
      "source": [
        "#range\n",
        "for i in range(len(people)):\n",
        "  print(len(people[i]))\n",
        "\n",
        "for i in range(0,11):\n",
        "  print(f'number: {i}')"
      ],
      "metadata": {
        "colab": {
          "base_uri": "https://localhost:8080/"
        },
        "id": "Xq2yo1kjMKI2",
        "outputId": "f0e01676-eed2-4b0d-f7be-1a3662766b3f"
      },
      "execution_count": 65,
      "outputs": [
        {
          "output_type": "stream",
          "name": "stdout",
          "text": [
            "3\n",
            "2\n",
            "4\n",
            "5\n",
            "number: 0\n",
            "number: 1\n",
            "number: 2\n",
            "number: 3\n",
            "number: 4\n",
            "number: 5\n",
            "number: 6\n",
            "number: 7\n",
            "number: 8\n",
            "number: 9\n",
            "number: 10\n"
          ]
        }
      ]
    },
    {
      "cell_type": "code",
      "source": [
        "#While loop\n",
        "count = 0\n",
        "while count<=10:\n",
        "  print('hello')\n",
        "  count +=1"
      ],
      "metadata": {
        "colab": {
          "base_uri": "https://localhost:8080/"
        },
        "id": "ajc9HcpcMskF",
        "outputId": "0af24063-26ae-457d-d98a-62defe174837"
      },
      "execution_count": 67,
      "outputs": [
        {
          "output_type": "stream",
          "name": "stdout",
          "text": [
            "hello\n",
            "hello\n",
            "hello\n",
            "hello\n",
            "hello\n",
            "hello\n",
            "hello\n",
            "hello\n",
            "hello\n",
            "hello\n",
            "hello\n"
          ]
        }
      ]
    },
    {
      "cell_type": "code",
      "source": [
        ""
      ],
      "metadata": {
        "id": "wqWXG0RDM81-"
      },
      "execution_count": null,
      "outputs": []
    },
    {
      "cell_type": "markdown",
      "source": [
        "Modules# New Section"
      ],
      "metadata": {
        "id": "vgKHEgSyNDJU"
      }
    },
    {
      "cell_type": "markdown",
      "source": [
        "A module is basically a fiel conataining a set of functions to include in your applications. There are core python modules you can us eusing the pip python manager (including django) as well as custom modules."
      ],
      "metadata": {
        "id": "1CaMXuevNPGP"
      }
    },
    {
      "cell_type": "code",
      "source": [
        "#core modules\n",
        "import datetime\n",
        "from datetime import date\n",
        "import time\n",
        "from time import time\n",
        "#today = datetime.date.today()\n",
        "today = date.today()\n",
        "timestamp = time.time()\n",
        "print(today, timestamp)\n",
        "\n"
      ],
      "metadata": {
        "colab": {
          "base_uri": "https://localhost:8080/"
        },
        "id": "Jba9J-ZyNngU",
        "outputId": "bf7fe953-3d27-4ad4-df41-acbf8d586565"
      },
      "execution_count": 74,
      "outputs": [
        {
          "output_type": "stream",
          "name": "stdout",
          "text": [
            "2022-03-20 1647761344.6458943\n"
          ]
        }
      ]
    },
    {
      "cell_type": "code",
      "source": [
        "!pip install matplotlib-venn"
      ],
      "metadata": {
        "id": "f_wpLkfIQFVI"
      },
      "execution_count": null,
      "outputs": []
    },
    {
      "cell_type": "code",
      "source": [
        "!pip\n"
      ],
      "metadata": {
        "id": "O-_XH-dgiUkM"
      },
      "execution_count": null,
      "outputs": []
    },
    {
      "cell_type": "code",
      "source": [
        "!apt-get install"
      ],
      "metadata": {
        "colab": {
          "base_uri": "https://localhost:8080/"
        },
        "id": "R2-obzpCizDC",
        "outputId": "ecc12201-00cc-427b-d02f-a986b9d51588"
      },
      "execution_count": 9,
      "outputs": [
        {
          "output_type": "stream",
          "name": "stdout",
          "text": [
            "Reading package lists... Done\n",
            "Building dependency tree       \n",
            "Reading state information... Done\n",
            "0 upgraded, 0 newly installed, 0 to remove and 39 not upgraded.\n"
          ]
        }
      ]
    },
    {
      "cell_type": "code",
      "source": [
        "#pip module\n",
        "\n",
        "from camelcase import CamelCase\n",
        "c = CamelCase()\n",
        "print(c.hump)\n"
      ],
      "metadata": {
        "id": "0wJ_rDwQO2oj"
      },
      "execution_count": null,
      "outputs": []
    },
    {
      "cell_type": "markdown",
      "source": [
        "classes# New Section"
      ],
      "metadata": {
        "id": "SEO_9nEekOzB"
      }
    },
    {
      "cell_type": "code",
      "source": [
        "#A class is like a blueprint for creating objects. An object has properties and methods(function) associated with it. Almost everything in python is an object.\n",
        "\n",
        "#Create a class\n",
        "class User:\n",
        "  #constructor\n",
        "  def __intit__(self, name, email, age):\n",
        "    self.name = name\n",
        "    self.email = email \n",
        "    self.age = age\n",
        "\n",
        "#init user object\n",
        "brad = User('brad guth','ksvosd@com',54)\n",
        "print(brad.age)    "
      ],
      "metadata": {
        "id": "Y1lwtXGNkRuU"
      },
      "execution_count": null,
      "outputs": []
    },
    {
      "cell_type": "code",
      "source": [
        ""
      ],
      "metadata": {
        "id": "HM86GaJDmvR1"
      },
      "execution_count": null,
      "outputs": []
    },
    {
      "cell_type": "markdown",
      "source": [
        "Files# New Section"
      ],
      "metadata": {
        "id": "h7KCUmJhnYI3"
      }
    },
    {
      "cell_type": "markdown",
      "source": [
        "Pyhton has functions for creating, reading, updating and deleting files"
      ],
      "metadata": {
        "id": "vzCBc0iqngT_"
      }
    },
    {
      "cell_type": "code",
      "source": [
        "#open a file\n",
        "myFile = open('myfile.txt', 'w')\n",
        "\n",
        "#fet info in this file\n",
        "print('name:', myFile.name)\n",
        "print('Is closed:', myFile.closed)\n",
        "print('Opening Mode :', myFile.mode)\n",
        "\n",
        "#Write to Pyhton\n",
        "myFile.write('I love Pythin')\n",
        "myFile.write('and JS')\n",
        "myFile.close()\n",
        "\n",
        "#Append to a file\n",
        "myFile = open('myfile.txt', 'a')\n",
        "myFile.write('I also like PHP')\n",
        "\n",
        "#Read from a file\n",
        "myFile = open('nyFile.txt', 'r+')\n",
        "text = myFile.read(100)\n",
        "print(text)\n"
      ],
      "metadata": {
        "id": "HpN7Bb9Jnbor"
      },
      "execution_count": 14,
      "outputs": []
    }
  ]
}